{
  "cells": [
    {
      "cell_type": "code",
      "execution_count": null,
      "metadata": {
        "id": "0wgsxiLWFXxx"
      },
      "outputs": [],
      "source": [
        "#library for numerical computations\n",
        "import numpy as np\n",
        "\n",
        "#super library for natural language processing\n",
        "import nltk\n",
        "\n",
        "#process and handles strings\n",
        "import string\n",
        "\n",
        "import random"
      ]
    },
    {
      "cell_type": "markdown",
      "metadata": {
        "id": "LQrrNj4gHh_s"
      },
      "source": [
        "#Importing and Reading the Corpus of text"
      ]
    },
    {
      "cell_type": "code",
      "execution_count": null,
      "metadata": {
        "id": "6ynGv7BrGSU0"
      },
      "outputs": [],
      "source": [
        "f=open('/content/cse.txt','r',errors='ignore')\n",
        "raw_doc=f.read()"
      ]
    },
    {
      "cell_type": "code",
      "execution_count": null,
      "metadata": {
        "colab": {
          "base_uri": "https://localhost:8080/",
          "height": 140
        },
        "id": "5FsVUNeCHvdd",
        "outputId": "1631d2e0-9b0a-4e4b-9536-c245ddbd2ee7"
      },
      "outputs": [
        {
          "data": {
            "application/vnd.google.colaboratory.intrinsic+json": {
              "type": "string"
            },
            "text/plain": [
              "'About the Department:\\nThe department of Computer Systems Engineering (CSE) offers Diplomas, Advanced Diplomas and Postgraduate Diplomas in Computer Systems Engineering; \\nMoreover, we also offer Masters and Doctor of Computing degrees in CSE;\\n These programmes are primarily designed to provide adequate theoretical background with industry inclined hands-on experiences;\\n To further aid our students, we also provide them with strong skills in programming, electronics, databases and process control;\\nWe have a diverse team of lecturers who are multi-talented and skilled in the art of transferring skills and knowledge to our valued students.\\n \\nThe programmes offered have merged fields such as:\\n        Embedded systems, Programming, Artificial Intelligence, Control systems, Intelligent systems, Machine learning, Automation, robotics, Communication systems,  \\n        the Internet of Things and more to create a well-rounded, modern CSE student; \\n\\tThese programmes prepare the students for careers in a variety of Computer systems engineering fields as well as becoming competent practicing Engineering Council of \\n\\tSouth Africa accredited technologists that will make meaningful contributions to both the economy and national development,\\n\\tespecially in the emerging computer-powered industries dominated by the ongoing fourth industrial revolution.\\u200b'"
            ]
          },
          "execution_count": 14,
          "metadata": {},
          "output_type": "execute_result"
        }
      ],
      "source": [
        "raw_doc"
      ]
    },
    {
      "cell_type": "markdown",
      "metadata": {
        "id": "43hTCMkBH6-E"
      },
      "source": [
        "# Preprocessing"
      ]
    },
    {
      "cell_type": "code",
      "execution_count": null,
      "metadata": {
        "colab": {
          "base_uri": "https://localhost:8080/"
        },
        "id": "TqA46jz2GSXj",
        "outputId": "77c33064-23de-49ee-980d-83446cb200c7"
      },
      "outputs": [
        {
          "name": "stderr",
          "output_type": "stream",
          "text": [
            "[nltk_data] Downloading package punkt to /root/nltk_data...\n",
            "[nltk_data]   Unzipping tokenizers/punkt.zip.\n",
            "[nltk_data] Downloading package wordnet to /root/nltk_data...\n"
          ]
        }
      ],
      "source": [
        "#convert entire text to lower case\n",
        "raw_doc=raw_doc.lower()\n",
        "#using Punkt tokenizer\n",
        "#pretained tokenizer to build a model around whats required and give answer\n",
        "nltk.download('punkt')\n",
        "#using the WordNet dictionary\n",
        "nltk.download('wordnet')\n",
        "#nltk.download('omw-1.4')\n",
        "#converts doc to list of sentences\n",
        "sentence_tokens=nltk.sent_tokenize(raw_doc)\n",
        "#converts doc to list of words\n",
        "word_tokens=nltk.word_tokenize(raw_doc)"
      ]
    },
    {
      "cell_type": "markdown",
      "metadata": {
        "id": "XCJlKY1IH4lm"
      },
      "source": [
        "# After Tokenization"
      ]
    },
    {
      "cell_type": "code",
      "execution_count": null,
      "metadata": {
        "colab": {
          "base_uri": "https://localhost:8080/"
        },
        "id": "eRB3kUQdGSab",
        "outputId": "089a2302-e08b-43ad-e64f-2855840b707a"
      },
      "outputs": [
        {
          "data": {
            "text/plain": [
              "['the department of computer systems engineering (cse) offers diplomas, advanced diplomas and postgraduate diplomas in computer systems engineering.',\n",
              " 'moreover, we also offer masters and doctor of computing degrees in cse.',\n",
              " 'these programmes are primarily designed to provide adequate theoretical background with industry inclined hands-on experiences.']"
            ]
          },
          "execution_count": 6,
          "metadata": {},
          "output_type": "execute_result"
        }
      ],
      "source": [
        "#examples of sentence tokens\n",
        "sentence_tokens[:3]"
      ]
    },
    {
      "cell_type": "code",
      "execution_count": null,
      "metadata": {
        "colab": {
          "base_uri": "https://localhost:8080/"
        },
        "id": "2727ONDYGSdU",
        "outputId": "6f68080e-d0c6-43c7-db81-2179ce20334c"
      },
      "outputs": [
        {
          "data": {
            "text/plain": [
              "['the', 'department', 'of']"
            ]
          },
          "execution_count": 7,
          "metadata": {},
          "output_type": "execute_result"
        }
      ],
      "source": [
        "#examples of word tokens\n",
        "word_tokens[:3]"
      ]
    },
    {
      "cell_type": "markdown",
      "metadata": {
        "id": "OpbcS_JAJTZV"
      },
      "source": [
        "# Performing Text-Preprocessing Steps"
      ]
    },
    {
      "cell_type": "code",
      "execution_count": null,
      "metadata": {
        "id": "934mkP4yGSf-"
      },
      "outputs": [],
      "source": [
        "lemmer=nltk.stem.WordNetLemmatizer()\n",
        "#WordNet is a semantically-oriented ditionary of english in NLTK\n",
        "def LemTokens(tokens):\n",
        "  return [lemmer.lemmatize(token) for token in tokens]\n",
        "remove_punc_dict=dict((ord(punct),None) for punct in string.punctuation)\n",
        "\n",
        "def LemNormalize(text):\n",
        "  return LemTokens(nltk.word_tokenize(text.lower().translate(remove_punc_dict)))"
      ]
    },
    {
      "cell_type": "markdown",
      "metadata": {
        "id": "DJtGgB4JKJ9V"
      },
      "source": [
        "# Define Greeting Function"
      ]
    },
    {
      "cell_type": "code",
      "execution_count": null,
      "metadata": {
        "id": "73OgR39kGSi3"
      },
      "outputs": [],
      "source": [
        "greet_inputs=('hello','hi','hey','how are you')\n",
        "greet_responses=('hi hi','hey hey','hey there','hi there')\n",
        "def greet(sentence):\n",
        "\n",
        "  for word in sentence.split():\n",
        "    if word.lower() in greet_inputs:\n",
        "      return random.choice(greet_responses)"
      ]
    },
    {
      "cell_type": "markdown",
      "metadata": {
        "id": "cleGF5NFLGqN"
      },
      "source": [
        "# Response Generation By The Bot"
      ]
    },
    {
      "cell_type": "code",
      "execution_count": null,
      "metadata": {
        "id": "5994h7t0GSlg"
      },
      "outputs": [],
      "source": [
        "from sklearn.feature_extraction.text import TfidfVectorizer\n",
        "from sklearn.metrics.pairwise import cosine_similarity"
      ]
    },
    {
      "cell_type": "code",
      "execution_count": null,
      "metadata": {
        "id": "LvNm-EeoGSnn"
      },
      "outputs": [],
      "source": [
        "def response(user_response):\n",
        "  robo1_response=''\n",
        "  TfidfVec=TfidfVectorizer(tokenizer=LemNormalize,stop_words='english')\n",
        "  tfidf=TfidfVec.fit_transform(sentence_tokens)\n",
        "  vals=cosine_similarity(tfidf[-1],tfidf)\n",
        "  idx=vals.argsort()[0][-2]\n",
        "  flat=vals.flatten()\n",
        "  flat.sort()\n",
        "  req_tfidf=flat[-2]\n",
        "\n",
        "  if(req_tfidf ==0):\n",
        "    robo1_response=robo1_response + \"I am sorry. Unable to understand you!\"\n",
        "    return robo1_response\n",
        "\n",
        "  else:\n",
        "     robo1_response=robo1_response + sentence_tokens[idx]\n",
        "     return robo1_response"
      ]
    },
    {
      "cell_type": "markdown",
      "metadata": {
        "id": "M7LDBa89OCIf"
      },
      "source": [
        "# Defining Chat Flow:conversation start/end protocols"
      ]
    },
    {
      "cell_type": "code",
      "execution_count": null,
      "metadata": {
        "colab": {
          "background_save": true,
          "base_uri": "https://localhost:8080/"
        },
        "id": "1zgDOyY4Zy-g",
        "outputId": "6e798f99-6803-45e1-ec1a-0c254d3fb6fb"
      },
      "outputs": [
        {
          "name": "stdout",
          "output_type": "stream",
          "text": [
            "Hello! I am a Learning Bot. Start typing your text after greeting to talk to me. For ending convo type bye\n",
            "Bot hey there\n",
            "Bot: the department of computer systems engineering (cse) offers diplomas, advanced diplomas and postgraduate diplomas in computer systems engineering.\n",
            "Bot: these programmes are primarily designed to provide adequate theoretical background with industry inclined hands-on experiences.\n",
            "Bot: to further aid our students, we also provide them with strong skills in programming, electronics, databases and process control.\n",
            "Bot: the programmes offered have merged fields such as embedded systems, programming, artificial intelligence, control systems,  intelligent systems, machine learning, automation, robotics, communication systems,  the internet of things and more to create a well-rounded, modern cse student.\n"
          ]
        }
      ],
      "source": [
        "flag = True\n",
        "print('Hello! I am a Learning Bot. Start typing your text after greeting to talk to me. For ending convo type bye')\n",
        "while(flag==True):\n",
        "  user_response=input()\n",
        "  user_response=user_response.lower()\n",
        "  if(user_response!='bye'):\n",
        "    if(user_response=='thank you' or user_response =='thanks'):\n",
        "      flag=False\n",
        "      print('Bot: You are welcome...')\n",
        "\n",
        "    else:\n",
        "      if(greet(user_response)!=None):\n",
        "        print('Bot '+ greet(user_response))\n",
        "\n",
        "      else:\n",
        "        sentence_tokens.append(user_response)\n",
        "        word_tokens=word_tokens + nltk.word_tokenize(user_response)\n",
        "        final_words=list(set(word_tokens))\n",
        "        print('Bot: ',end='')\n",
        "        print(response(user_response))\n",
        "        sentence_tokens.remove(user_response)\n",
        "  else:\n",
        "    flag=False\n",
        "    print('Bot: Goodbye! Take Care <3 ')"
      ]
    },
    {
      "cell_type": "code",
      "execution_count": null,
      "metadata": {
        "id": "5n_mWCs_7ZSW"
      },
      "outputs": [],
      "source": []
    }
  ],
  "metadata": {
    "colab": {
      "provenance": []
    },
    "kernelspec": {
      "display_name": "Python 3",
      "name": "python3"
    },
    "language_info": {
      "name": "python"
    }
  },
  "nbformat": 4,
  "nbformat_minor": 0
}